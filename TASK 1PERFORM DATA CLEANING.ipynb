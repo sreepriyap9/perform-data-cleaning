{
 "cells": [
  {
   "cell_type": "code",
   "execution_count": 7,
   "id": "93a821fe",
   "metadata": {},
   "outputs": [
    {
     "name": "stdout",
     "output_type": "stream",
     "text": [
      "Train Data - Missing Values:\n",
      "PassengerId      0\n",
      "Survived         0\n",
      "Pclass           0\n",
      "Name             0\n",
      "Sex              0\n",
      "Age            177\n",
      "SibSp            0\n",
      "Parch            0\n",
      "Ticket           0\n",
      "Fare             0\n",
      "Cabin          687\n",
      "Embarked         2\n",
      "dtype: int64\n",
      "\n",
      "Test Data - Missing Values:\n",
      "PassengerId      0\n",
      "Pclass           0\n",
      "Name             0\n",
      "Sex              0\n",
      "Age             86\n",
      "SibSp            0\n",
      "Parch            0\n",
      "Ticket           0\n",
      "Fare             1\n",
      "Cabin          327\n",
      "Embarked         0\n",
      "dtype: int64\n",
      "Data cleaning completed. Cleaned datasets saved as train_cleaned.csv and test_cleaned.csv.\n"
     ]
    }
   ],
   "source": [
    "import pandas as pd\n",
    "import numpy as np\n",
    "\n",
    "# Load datasets\n",
    "train_data = pd.read_csv('train.csv')\n",
    "test_data = pd.read_csv('test.csv')\n",
    "\n",
    "# Display basic info about missing values\n",
    "print(\"Train Data - Missing Values:\")\n",
    "print(train_data.isnull().sum())\n",
    "\n",
    "print(\"\\nTest Data - Missing Values:\")\n",
    "print(test_data.isnull().sum())\n",
    "\n",
    "# Remove rows with missing values\n",
    "train_data_cleaned = train_data.dropna()\n",
    "test_data_cleaned = test_data.dropna()\n",
    "\n",
    "# Detect outliers using z-score (considering 'Fare' column as an example)\n",
    "from scipy.stats import zscore\n",
    "\n",
    "# Calculate z-scores for 'Fare' column in train_data\n",
    "z_scores = np.abs(zscore(train_data_cleaned['Fare']))\n",
    "outlier_threshold = 3  # Define threshold for z-score based outlier detection\n",
    "\n",
    "# Filter out rows with outliers\n",
    "train_data_cleaned = train_data_cleaned[(z_scores < outlier_threshold)]\n",
    "\n",
    "# Save cleaned datasets to new CSV files\n",
    "train_data_cleaned.to_csv('train_cleaned.csv', index=False)\n",
    "test_data_cleaned.to_csv('test_cleaned.csv', index=False)\n",
    "\n",
    "print(\"Data cleaning completed. Cleaned datasets saved as train_cleaned.csv and test_cleaned.csv.\")\n"
   ]
  },
  {
   "cell_type": "code",
   "execution_count": null,
   "id": "a89465a0",
   "metadata": {},
   "outputs": [],
   "source": []
  }
 ],
 "metadata": {
  "kernelspec": {
   "display_name": "Python 3 (ipykernel)",
   "language": "python",
   "name": "python3"
  },
  "language_info": {
   "codemirror_mode": {
    "name": "ipython",
    "version": 3
   },
   "file_extension": ".py",
   "mimetype": "text/x-python",
   "name": "python",
   "nbconvert_exporter": "python",
   "pygments_lexer": "ipython3",
   "version": "3.11.5"
  }
 },
 "nbformat": 4,
 "nbformat_minor": 5
}
